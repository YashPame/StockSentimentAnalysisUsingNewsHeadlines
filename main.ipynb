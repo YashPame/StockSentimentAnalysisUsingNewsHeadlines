{
 "cells": [
  {
   "cell_type": "code",
   "execution_count": 15,
   "metadata": {
    "collapsed": true
   },
   "outputs": [],
   "source": [
    "import pandas as pd"
   ]
  },
  {
   "cell_type": "code",
   "execution_count": 16,
   "outputs": [],
   "source": [
    "df=pd.read_csv('Dataset.csv',encoding='ISO-8859-1')"
   ],
   "metadata": {
    "collapsed": false,
    "pycharm": {
     "name": "#%%\n"
    }
   }
  },
  {
   "cell_type": "code",
   "execution_count": 17,
   "outputs": [
    {
     "data": {
      "text/plain": "         Date  Label                                               Top1  \\\n0  2000-01-03      0  A 'hindrance to operations': extracts from the...   \n1  2000-01-04      0                                          Scorecard   \n2  2000-01-05      0                  Coventry caught on counter by Flo   \n3  2000-01-06      1                      Pilgrim knows how to progress   \n4  2000-01-07      1                               Hitches and Horlocks   \n\n                                 Top2  \\\n0                           Scorecard   \n1                 The best lake scene   \n2  United's rivals on the road to Rio   \n3                 Thatcher facing ban   \n4      Beckham off but United survive   \n\n                                            Top3  \\\n0                Hughes' instant hit buoys Blues   \n1                  Leader: German sleaze inquiry   \n2  Thatcher issues defence before trial by video   \n3        McIlroy calls for Irish fighting spirit   \n4                        Breast cancer screening   \n\n                                            Top4  \\\n0       Jack gets his skates on at ice-cold Alex   \n1                                  Cheerio, boyo   \n2  Police help Smith lay down the law at Everton   \n3                Leicester bin stadium blueprint   \n4                                    Alan Parker   \n\n                                          Top5  \\\n0       Chaos as Maracana builds up for United   \n1                     The main recommendations   \n2  Tale of Trautmann bears two more retellings   \n3               United braced for Mexican wave   \n4      Guardian readers: are you all whingers?   \n\n                                                Top6  \\\n0  Depleted Leicester prevail as Elliott spoils E...   \n1                             Has Cubie killed fees?   \n2                                England on the rack   \n3  Auntie back in fashion, even if the dress look...   \n4                                   Hollywood Beyond   \n\n                                              Top7  \\\n0                 Hungry Spurs sense rich pickings   \n1                           Has Cubie killed fees?   \n2  Pakistan retaliate with call for video of Walsh   \n3                    Shoaib appeal goes to the top   \n4                               Ashes and diamonds   \n\n                                                Top8  ...  \\\n0                  Gunners so wide of an easy target  ...   \n1                             Has Cubie killed fees?  ...   \n2               Cullinan continues his Cape monopoly  ...   \n3  Hussain hurt by 'shambles' but lays blame on e...  ...   \n4                   Whingers - a formidable minority  ...   \n\n                                               Top16  \\\n0           Flintoff injury piles on woe for England   \n1                               On the critical list   \n2                        South Melbourne (Australia)   \n3  Putin admits Yeltsin quit to give him a head s...   \n4                             Most everywhere:  UDIs   \n\n                                               Top17  \\\n0  Hunters threaten Jospin with new battle of the...   \n1                          The timing of their lives   \n2                                    Necaxa (Mexico)   \n3         BBC worst hit as digital TV begins to bite   \n4                       Most wanted:  Chloe lunettes   \n\n                                            Top18  \\\n0             Kohl's successor drawn into scandal   \n1                                     Dear doctor   \n2                             Real Madrid (Spain)   \n3                     How much can you pay for...   \n4  Return of the cane 'completely off the agenda'   \n\n                                               Top19  \\\n0               The difference between men and women   \n1  Irish court halts IRA man's extradition to Nor...   \n2                          Raja Casablanca (Morocco)   \n3                                 Christmas glitches   \n4                   From Sleepy Hollow to Greeneland   \n\n                                               Top20  \\\n0                Sara Denver, nurse turned solicitor   \n1  Burundi peace initiative fades after rebels re...   \n2                               Corinthians (Brazil)   \n3  Upending a table, Chopping a line and Scoring ...   \n4              Blunkett outlines vision for over 11s   \n\n                                               Top21  \\\n0     Diana's landmine crusade put Tories in a panic   \n1               PE points the way forward to the ECB   \n2                                 Tony's pet project   \n3   Scientific evidence 'unreliable', defence claims   \n4  Embattled Dobson attacks 'play now, pay later'...   \n\n                                               Top22  \\\n0  Yeltsin's resignation caught opposition flat-f...   \n1  Campaigners keep up pressure on Nazi war crime...   \n2                            Al Nassr (Saudi Arabia)   \n3     Fusco wins judicial review in extradition case   \n4                                  Doom and the Dome   \n\n                             Top23  \\\n0                 Russian roulette   \n1                   Jane Ratcliffe   \n2                Ideal Holmes show   \n3    Rebels thwart Russian advance   \n4  What is the north-south divide?   \n\n                                               Top24  \\\n0                                           Sold out   \n1  Yet more things you wouldn't know without the ...   \n2               Pinochet leaves hospital after tests   \n3               Blair orders shake-up of failing NHS   \n4                          Aitken released from jail   \n\n                          Top25  \n0            Recovering a title  \n1  Millennium bug fails to bite  \n2                  Useful links  \n3   Lessons of law's hard heart  \n4                    Gone aloft  \n\n[5 rows x 27 columns]",
      "text/html": "<div>\n<style scoped>\n    .dataframe tbody tr th:only-of-type {\n        vertical-align: middle;\n    }\n\n    .dataframe tbody tr th {\n        vertical-align: top;\n    }\n\n    .dataframe thead th {\n        text-align: right;\n    }\n</style>\n<table border=\"1\" class=\"dataframe\">\n  <thead>\n    <tr style=\"text-align: right;\">\n      <th></th>\n      <th>Date</th>\n      <th>Label</th>\n      <th>Top1</th>\n      <th>Top2</th>\n      <th>Top3</th>\n      <th>Top4</th>\n      <th>Top5</th>\n      <th>Top6</th>\n      <th>Top7</th>\n      <th>Top8</th>\n      <th>...</th>\n      <th>Top16</th>\n      <th>Top17</th>\n      <th>Top18</th>\n      <th>Top19</th>\n      <th>Top20</th>\n      <th>Top21</th>\n      <th>Top22</th>\n      <th>Top23</th>\n      <th>Top24</th>\n      <th>Top25</th>\n    </tr>\n  </thead>\n  <tbody>\n    <tr>\n      <th>0</th>\n      <td>2000-01-03</td>\n      <td>0</td>\n      <td>A 'hindrance to operations': extracts from the...</td>\n      <td>Scorecard</td>\n      <td>Hughes' instant hit buoys Blues</td>\n      <td>Jack gets his skates on at ice-cold Alex</td>\n      <td>Chaos as Maracana builds up for United</td>\n      <td>Depleted Leicester prevail as Elliott spoils E...</td>\n      <td>Hungry Spurs sense rich pickings</td>\n      <td>Gunners so wide of an easy target</td>\n      <td>...</td>\n      <td>Flintoff injury piles on woe for England</td>\n      <td>Hunters threaten Jospin with new battle of the...</td>\n      <td>Kohl's successor drawn into scandal</td>\n      <td>The difference between men and women</td>\n      <td>Sara Denver, nurse turned solicitor</td>\n      <td>Diana's landmine crusade put Tories in a panic</td>\n      <td>Yeltsin's resignation caught opposition flat-f...</td>\n      <td>Russian roulette</td>\n      <td>Sold out</td>\n      <td>Recovering a title</td>\n    </tr>\n    <tr>\n      <th>1</th>\n      <td>2000-01-04</td>\n      <td>0</td>\n      <td>Scorecard</td>\n      <td>The best lake scene</td>\n      <td>Leader: German sleaze inquiry</td>\n      <td>Cheerio, boyo</td>\n      <td>The main recommendations</td>\n      <td>Has Cubie killed fees?</td>\n      <td>Has Cubie killed fees?</td>\n      <td>Has Cubie killed fees?</td>\n      <td>...</td>\n      <td>On the critical list</td>\n      <td>The timing of their lives</td>\n      <td>Dear doctor</td>\n      <td>Irish court halts IRA man's extradition to Nor...</td>\n      <td>Burundi peace initiative fades after rebels re...</td>\n      <td>PE points the way forward to the ECB</td>\n      <td>Campaigners keep up pressure on Nazi war crime...</td>\n      <td>Jane Ratcliffe</td>\n      <td>Yet more things you wouldn't know without the ...</td>\n      <td>Millennium bug fails to bite</td>\n    </tr>\n    <tr>\n      <th>2</th>\n      <td>2000-01-05</td>\n      <td>0</td>\n      <td>Coventry caught on counter by Flo</td>\n      <td>United's rivals on the road to Rio</td>\n      <td>Thatcher issues defence before trial by video</td>\n      <td>Police help Smith lay down the law at Everton</td>\n      <td>Tale of Trautmann bears two more retellings</td>\n      <td>England on the rack</td>\n      <td>Pakistan retaliate with call for video of Walsh</td>\n      <td>Cullinan continues his Cape monopoly</td>\n      <td>...</td>\n      <td>South Melbourne (Australia)</td>\n      <td>Necaxa (Mexico)</td>\n      <td>Real Madrid (Spain)</td>\n      <td>Raja Casablanca (Morocco)</td>\n      <td>Corinthians (Brazil)</td>\n      <td>Tony's pet project</td>\n      <td>Al Nassr (Saudi Arabia)</td>\n      <td>Ideal Holmes show</td>\n      <td>Pinochet leaves hospital after tests</td>\n      <td>Useful links</td>\n    </tr>\n    <tr>\n      <th>3</th>\n      <td>2000-01-06</td>\n      <td>1</td>\n      <td>Pilgrim knows how to progress</td>\n      <td>Thatcher facing ban</td>\n      <td>McIlroy calls for Irish fighting spirit</td>\n      <td>Leicester bin stadium blueprint</td>\n      <td>United braced for Mexican wave</td>\n      <td>Auntie back in fashion, even if the dress look...</td>\n      <td>Shoaib appeal goes to the top</td>\n      <td>Hussain hurt by 'shambles' but lays blame on e...</td>\n      <td>...</td>\n      <td>Putin admits Yeltsin quit to give him a head s...</td>\n      <td>BBC worst hit as digital TV begins to bite</td>\n      <td>How much can you pay for...</td>\n      <td>Christmas glitches</td>\n      <td>Upending a table, Chopping a line and Scoring ...</td>\n      <td>Scientific evidence 'unreliable', defence claims</td>\n      <td>Fusco wins judicial review in extradition case</td>\n      <td>Rebels thwart Russian advance</td>\n      <td>Blair orders shake-up of failing NHS</td>\n      <td>Lessons of law's hard heart</td>\n    </tr>\n    <tr>\n      <th>4</th>\n      <td>2000-01-07</td>\n      <td>1</td>\n      <td>Hitches and Horlocks</td>\n      <td>Beckham off but United survive</td>\n      <td>Breast cancer screening</td>\n      <td>Alan Parker</td>\n      <td>Guardian readers: are you all whingers?</td>\n      <td>Hollywood Beyond</td>\n      <td>Ashes and diamonds</td>\n      <td>Whingers - a formidable minority</td>\n      <td>...</td>\n      <td>Most everywhere:  UDIs</td>\n      <td>Most wanted:  Chloe lunettes</td>\n      <td>Return of the cane 'completely off the agenda'</td>\n      <td>From Sleepy Hollow to Greeneland</td>\n      <td>Blunkett outlines vision for over 11s</td>\n      <td>Embattled Dobson attacks 'play now, pay later'...</td>\n      <td>Doom and the Dome</td>\n      <td>What is the north-south divide?</td>\n      <td>Aitken released from jail</td>\n      <td>Gone aloft</td>\n    </tr>\n  </tbody>\n</table>\n<p>5 rows × 27 columns</p>\n</div>"
     },
     "execution_count": 17,
     "metadata": {},
     "output_type": "execute_result"
    }
   ],
   "source": [
    "df.head()"
   ],
   "metadata": {
    "collapsed": false,
    "pycharm": {
     "name": "#%%\n"
    }
   }
  },
  {
   "cell_type": "code",
   "execution_count": 18,
   "outputs": [
    {
     "data": {
      "text/plain": "            Date  Label                                               Top1  \\\n4096  2016-06-27      0  Barclays and RBS shares suspended from trading...   \n4097  2016-06-28      1  2,500 Scientists To Australia: If You Want To ...   \n4098  2016-06-29      1                   Explosion At Airport In Istanbul   \n4099  2016-06-30      1  Jamaica proposes marijuana dispensers for tour...   \n4100  2016-07-01      1  A 117-year-old woman in Mexico City finally re...   \n\n                                                   Top2  \\\n4096  Pope says Church should ask forgiveness from g...   \n4097  The personal details of 112,000 French police ...   \n4098  Yemeni former president: Terrorism is the offs...   \n4099  Stephen Hawking says pollution and 'stupidity'...   \n4100   IMF chief backs Athens as permanent Olympic host   \n\n                                                   Top3  \\\n4096  Poland 'shocked' by xenophobic abuse of Poles ...   \n4097  S&amp;P cuts United Kingdom sovereign credit r...   \n4098  UK must accept freedom of movement to access E...   \n4099  Boris Johnson says he will not run for Tory pa...   \n4100  The president of France says if Brexit won, so...   \n\n                                                   Top4  \\\n4096  There will be no second referendum, cabinet ag...   \n4097                Huge helium deposit found in Africa   \n4098  Devastated: scientists too late to captive bre...   \n4099  Six gay men in Ivory Coast were abused and for...   \n4100  British Man Who Must Give Police 24 Hours' Not...   \n\n                                                   Top5  \\\n4096      Scotland welcome to join EU, Merkel ally says   \n4097  CEO of the South African state broadcaster qui...   \n4098  British Labor Party leader Jeremy Corbyn loses...   \n4099  Switzerland denies citizenship to Muslim immig...   \n4100  100+ Nobel laureates urge Greenpeace to stop o...   \n\n                                                   Top6  \\\n4096  Sterling dips below Friday's 31-year low amid ...   \n4097  Brexit cost investors $2 trillion, the worst o...   \n4098  A Muslim Shop in the UK Was Just Firebombed Wh...   \n4099  Palestinian terrorist stabs israeli teen girl ...   \n4100  Brazil: Huge spike in number of police killing...   \n\n                                                   Top7  \\\n4096  No negative news about South African President...   \n4097  Hong Kong democracy activists call for return ...   \n4098  Mexican Authorities Sexually Torture Women in ...   \n4099  Puerto Rico will default on $1 billion of debt...   \n4100  Austria's highest court annuls presidential el...   \n\n                                                   Top8  ...  \\\n4096  Surge in Hate Crimes in the U.K. Following U.K...  ...   \n4097  Brexit: Iceland president says UK can join 'tr...  ...   \n4098            UK shares and pound continue to recover  ...   \n4099  Republic of Ireland fans to be awarded medal f...  ...   \n4100  Facebook wins privacy case, can track any Belg...  ...   \n\n                                                  Top16  \\\n4096  German lawyers to probe Erdogan over alleged w...   \n4097  US, Canada and Mexico pledge 50% of power from...   \n4098  Escape Tunnel, Dug by Hand, Is Found at Holoca...   \n4099  Googles free wifi at Indian railway stations i...   \n4100  The United States has placed Myanmar, Uzbekist...   \n\n                                                  Top17  \\\n4096  Boris Johnson says the UK will continue to \"in...   \n4097  There is increasing evidence that Australia is...   \n4098  The land under Beijing is sinking by as much a...   \n4099  Mounting evidence suggests 'hobbits' were wipe...   \n4100  S&amp;P revises European Union credit rating t...   \n\n                                                  Top18  \\\n4096  Richard Branson is calling on the UK governmen...   \n4097  Richard Branson, the founder of Virgin Group, ...   \n4098  Car bomb and Anti-Islamic attack on Mosque in ...   \n4099  The men who carried out Tuesday's terror attac...   \n4100  India gets $1 billion loan from World Bank for...   \n\n                                                  Top19  \\\n4096             Turkey 'sorry for downing Russian jet'   \n4097  37,000-yr-old skull from Borneo reveals surpri...   \n4098  Emaciated lions in Taiz Zoo are trapped in blo...   \n4099  Calls to suspend Saudi Arabia from UN Human Ri...   \n4100  U.S. sailors detained by Iran spoke too much u...   \n\n                                                  Top20  \\\n4096  Edward Snowden lawyer vows new push for pardon...   \n4097  Palestinians stone Western Wall worshipers; po...   \n4098  Rupert Murdoch describes Brexit as 'wonderful'...   \n4099  More Than 100 Nobel Laureates Call Out Greenpe...   \n4100  Mass fish kill in Vietnam solved as Taiwan ste...   \n\n                                                  Top21  \\\n4096  Brexit opinion poll reveals majority don't wan...   \n4097  Jean-Claude Juncker asks Farage: Why are you h...   \n4098       More than 40 killed in Yemen suicide attacks   \n4099  British pedophile sentenced to 85 years in US ...   \n4100  Philippines president Rodrigo Duterte urges pe...   \n\n                                                  Top22  \\\n4096  Conservative MP Leave Campaigner: \"The leave c...   \n4097  \"Romanians for Remainians\" offering a new home...   \n4098  Google Found Disastrous Symantec and Norton Vu...   \n4099  US permitted 1,200 offshore fracks in Gulf of ...   \n4100  Spain arrests three Pakistanis accused of prom...   \n\n                                                  Top23  \\\n4096  Economists predict UK recession, further weake...   \n4097  Brexit: Gibraltar in talks with Scotland to st...   \n4098  Extremist violence on the rise in Germany: Dom...   \n4099  We will be swimming in ridicule - French beach...   \n4100  Venezuela, where anger over food shortages is ...   \n\n                                                  Top24  \\\n4096  New EU 'superstate plan by France, Germany: Cr...   \n4097                   8 Suicide Bombers Strike Lebanon   \n4098  BBC News: Labour MPs pass Corbyn no-confidence...   \n4099  UEFA says no minutes of silence for Istanbul v...   \n4100  A Hindu temple worker has been killed by three...   \n\n                                                  Top25  \n4096  Pakistani clerics declare transgender marriage...  \n4097  Mexico's security forces routinely use 'sexual...  \n4098  Tiny New Zealand town with 'too many jobs' lau...  \n4099  Law Enforcement Sources: Gun Used in Paris Ter...  \n4100  Ozone layer hole seems to be healing - US &amp...  \n\n[5 rows x 27 columns]",
      "text/html": "<div>\n<style scoped>\n    .dataframe tbody tr th:only-of-type {\n        vertical-align: middle;\n    }\n\n    .dataframe tbody tr th {\n        vertical-align: top;\n    }\n\n    .dataframe thead th {\n        text-align: right;\n    }\n</style>\n<table border=\"1\" class=\"dataframe\">\n  <thead>\n    <tr style=\"text-align: right;\">\n      <th></th>\n      <th>Date</th>\n      <th>Label</th>\n      <th>Top1</th>\n      <th>Top2</th>\n      <th>Top3</th>\n      <th>Top4</th>\n      <th>Top5</th>\n      <th>Top6</th>\n      <th>Top7</th>\n      <th>Top8</th>\n      <th>...</th>\n      <th>Top16</th>\n      <th>Top17</th>\n      <th>Top18</th>\n      <th>Top19</th>\n      <th>Top20</th>\n      <th>Top21</th>\n      <th>Top22</th>\n      <th>Top23</th>\n      <th>Top24</th>\n      <th>Top25</th>\n    </tr>\n  </thead>\n  <tbody>\n    <tr>\n      <th>4096</th>\n      <td>2016-06-27</td>\n      <td>0</td>\n      <td>Barclays and RBS shares suspended from trading...</td>\n      <td>Pope says Church should ask forgiveness from g...</td>\n      <td>Poland 'shocked' by xenophobic abuse of Poles ...</td>\n      <td>There will be no second referendum, cabinet ag...</td>\n      <td>Scotland welcome to join EU, Merkel ally says</td>\n      <td>Sterling dips below Friday's 31-year low amid ...</td>\n      <td>No negative news about South African President...</td>\n      <td>Surge in Hate Crimes in the U.K. Following U.K...</td>\n      <td>...</td>\n      <td>German lawyers to probe Erdogan over alleged w...</td>\n      <td>Boris Johnson says the UK will continue to \"in...</td>\n      <td>Richard Branson is calling on the UK governmen...</td>\n      <td>Turkey 'sorry for downing Russian jet'</td>\n      <td>Edward Snowden lawyer vows new push for pardon...</td>\n      <td>Brexit opinion poll reveals majority don't wan...</td>\n      <td>Conservative MP Leave Campaigner: \"The leave c...</td>\n      <td>Economists predict UK recession, further weake...</td>\n      <td>New EU 'superstate plan by France, Germany: Cr...</td>\n      <td>Pakistani clerics declare transgender marriage...</td>\n    </tr>\n    <tr>\n      <th>4097</th>\n      <td>2016-06-28</td>\n      <td>1</td>\n      <td>2,500 Scientists To Australia: If You Want To ...</td>\n      <td>The personal details of 112,000 French police ...</td>\n      <td>S&amp;amp;P cuts United Kingdom sovereign credit r...</td>\n      <td>Huge helium deposit found in Africa</td>\n      <td>CEO of the South African state broadcaster qui...</td>\n      <td>Brexit cost investors $2 trillion, the worst o...</td>\n      <td>Hong Kong democracy activists call for return ...</td>\n      <td>Brexit: Iceland president says UK can join 'tr...</td>\n      <td>...</td>\n      <td>US, Canada and Mexico pledge 50% of power from...</td>\n      <td>There is increasing evidence that Australia is...</td>\n      <td>Richard Branson, the founder of Virgin Group, ...</td>\n      <td>37,000-yr-old skull from Borneo reveals surpri...</td>\n      <td>Palestinians stone Western Wall worshipers; po...</td>\n      <td>Jean-Claude Juncker asks Farage: Why are you h...</td>\n      <td>\"Romanians for Remainians\" offering a new home...</td>\n      <td>Brexit: Gibraltar in talks with Scotland to st...</td>\n      <td>8 Suicide Bombers Strike Lebanon</td>\n      <td>Mexico's security forces routinely use 'sexual...</td>\n    </tr>\n    <tr>\n      <th>4098</th>\n      <td>2016-06-29</td>\n      <td>1</td>\n      <td>Explosion At Airport In Istanbul</td>\n      <td>Yemeni former president: Terrorism is the offs...</td>\n      <td>UK must accept freedom of movement to access E...</td>\n      <td>Devastated: scientists too late to captive bre...</td>\n      <td>British Labor Party leader Jeremy Corbyn loses...</td>\n      <td>A Muslim Shop in the UK Was Just Firebombed Wh...</td>\n      <td>Mexican Authorities Sexually Torture Women in ...</td>\n      <td>UK shares and pound continue to recover</td>\n      <td>...</td>\n      <td>Escape Tunnel, Dug by Hand, Is Found at Holoca...</td>\n      <td>The land under Beijing is sinking by as much a...</td>\n      <td>Car bomb and Anti-Islamic attack on Mosque in ...</td>\n      <td>Emaciated lions in Taiz Zoo are trapped in blo...</td>\n      <td>Rupert Murdoch describes Brexit as 'wonderful'...</td>\n      <td>More than 40 killed in Yemen suicide attacks</td>\n      <td>Google Found Disastrous Symantec and Norton Vu...</td>\n      <td>Extremist violence on the rise in Germany: Dom...</td>\n      <td>BBC News: Labour MPs pass Corbyn no-confidence...</td>\n      <td>Tiny New Zealand town with 'too many jobs' lau...</td>\n    </tr>\n    <tr>\n      <th>4099</th>\n      <td>2016-06-30</td>\n      <td>1</td>\n      <td>Jamaica proposes marijuana dispensers for tour...</td>\n      <td>Stephen Hawking says pollution and 'stupidity'...</td>\n      <td>Boris Johnson says he will not run for Tory pa...</td>\n      <td>Six gay men in Ivory Coast were abused and for...</td>\n      <td>Switzerland denies citizenship to Muslim immig...</td>\n      <td>Palestinian terrorist stabs israeli teen girl ...</td>\n      <td>Puerto Rico will default on $1 billion of debt...</td>\n      <td>Republic of Ireland fans to be awarded medal f...</td>\n      <td>...</td>\n      <td>Googles free wifi at Indian railway stations i...</td>\n      <td>Mounting evidence suggests 'hobbits' were wipe...</td>\n      <td>The men who carried out Tuesday's terror attac...</td>\n      <td>Calls to suspend Saudi Arabia from UN Human Ri...</td>\n      <td>More Than 100 Nobel Laureates Call Out Greenpe...</td>\n      <td>British pedophile sentenced to 85 years in US ...</td>\n      <td>US permitted 1,200 offshore fracks in Gulf of ...</td>\n      <td>We will be swimming in ridicule - French beach...</td>\n      <td>UEFA says no minutes of silence for Istanbul v...</td>\n      <td>Law Enforcement Sources: Gun Used in Paris Ter...</td>\n    </tr>\n    <tr>\n      <th>4100</th>\n      <td>2016-07-01</td>\n      <td>1</td>\n      <td>A 117-year-old woman in Mexico City finally re...</td>\n      <td>IMF chief backs Athens as permanent Olympic host</td>\n      <td>The president of France says if Brexit won, so...</td>\n      <td>British Man Who Must Give Police 24 Hours' Not...</td>\n      <td>100+ Nobel laureates urge Greenpeace to stop o...</td>\n      <td>Brazil: Huge spike in number of police killing...</td>\n      <td>Austria's highest court annuls presidential el...</td>\n      <td>Facebook wins privacy case, can track any Belg...</td>\n      <td>...</td>\n      <td>The United States has placed Myanmar, Uzbekist...</td>\n      <td>S&amp;amp;P revises European Union credit rating t...</td>\n      <td>India gets $1 billion loan from World Bank for...</td>\n      <td>U.S. sailors detained by Iran spoke too much u...</td>\n      <td>Mass fish kill in Vietnam solved as Taiwan ste...</td>\n      <td>Philippines president Rodrigo Duterte urges pe...</td>\n      <td>Spain arrests three Pakistanis accused of prom...</td>\n      <td>Venezuela, where anger over food shortages is ...</td>\n      <td>A Hindu temple worker has been killed by three...</td>\n      <td>Ozone layer hole seems to be healing - US &amp;amp...</td>\n    </tr>\n  </tbody>\n</table>\n<p>5 rows × 27 columns</p>\n</div>"
     },
     "execution_count": 18,
     "metadata": {},
     "output_type": "execute_result"
    }
   ],
   "source": [
    "df.tail()"
   ],
   "metadata": {
    "collapsed": false,
    "pycharm": {
     "name": "#%%\n"
    }
   }
  },
  {
   "cell_type": "code",
   "execution_count": 19,
   "outputs": [],
   "source": [
    "train=df[df['Date']<'20150101']\n",
    "test=df[df['Date']>'20141231']"
   ],
   "metadata": {
    "collapsed": false,
    "pycharm": {
     "name": "#%%\n"
    }
   }
  },
  {
   "cell_type": "code",
   "execution_count": 20,
   "outputs": [
    {
     "data": {
      "text/plain": "                                                   0  \\\n0  A  hindrance to operations   extracts from the...   \n1                                          Scorecard   \n2                  Coventry caught on counter by Flo   \n3                      Pilgrim knows how to progress   \n4                               Hitches and Horlocks   \n\n                                    1  \\\n0                           Scorecard   \n1                 The best lake scene   \n2  United s rivals on the road to Rio   \n3                 Thatcher facing ban   \n4      Beckham off but United survive   \n\n                                               2  \\\n0                Hughes  instant hit buoys Blues   \n1                  Leader  German sleaze inquiry   \n2  Thatcher issues defence before trial by video   \n3        McIlroy calls for Irish fighting spirit   \n4                        Breast cancer screening   \n\n                                               3  \\\n0       Jack gets his skates on at ice cold Alex   \n1                                  Cheerio  boyo   \n2  Police help Smith lay down the law at Everton   \n3                Leicester bin stadium blueprint   \n4                                    Alan Parker   \n\n                                             4  \\\n0       Chaos as Maracana builds up for United   \n1                     The main recommendations   \n2  Tale of Trautmann bears two more retellings   \n3               United braced for Mexican wave   \n4      Guardian readers  are you all whingers    \n\n                                                   5  \\\n0  Depleted Leicester prevail as Elliott spoils E...   \n1                             Has Cubie killed fees    \n2                                England on the rack   \n3  Auntie back in fashion  even if the dress look...   \n4                                   Hollywood Beyond   \n\n                                                 6  \\\n0                 Hungry Spurs sense rich pickings   \n1                           Has Cubie killed fees    \n2  Pakistan retaliate with call for video of Walsh   \n3                    Shoaib appeal goes to the top   \n4                               Ashes and diamonds   \n\n                                                   7  \\\n0                  Gunners so wide of an easy target   \n1                             Has Cubie killed fees    \n2               Cullinan continues his Cape monopoly   \n3  Hussain hurt by  shambles  but lays blame on e...   \n4                   Whingers   a formidable minority   \n\n                                                   8  \\\n0      Derby raise a glass to Strupar s debut double   \n1  Hopkins  furious  at Foster s lack of Hannibal...   \n2             McGrath puts India out of their misery   \n3                      England s decade of disasters   \n4                             Alan Parker   part two   \n\n                                          9  ...  \\\n0  Southgate strikes  Leeds pay the penalty  ...   \n1                    Has Cubie killed fees   ...   \n2            Blair Witch bandwagon rolls on  ...   \n3      Revenge is sweet for jubilant Cronje  ...   \n4                 Thuggery  Toxins and Ties  ...   \n\n                                                  15  \\\n0           Flintoff injury piles on woe for England   \n1                               On the critical list   \n2                        South Melbourne  Australia    \n3  Putin admits Yeltsin quit to give him a head s...   \n4                             Most everywhere   UDIs   \n\n                                                  16  \\\n0  Hunters threaten Jospin with new battle of the...   \n1                          The timing of their lives   \n2                                    Necaxa  Mexico    \n3         BBC worst hit as digital TV begins to bite   \n4                       Most wanted   Chloe lunettes   \n\n                                               17  \\\n0             Kohl s successor drawn into scandal   \n1                                     Dear doctor   \n2                             Real Madrid  Spain    \n3                     How much can you pay for      \n4  Return of the cane  completely off the agenda    \n\n                                                  18  \\\n0               The difference between men and women   \n1  Irish court halts IRA man s extradition to Nor...   \n2                          Raja Casablanca  Morocco    \n3                                 Christmas glitches   \n4                   From Sleepy Hollow to Greeneland   \n\n                                                  19  \\\n0                Sara Denver  nurse turned solicitor   \n1  Burundi peace initiative fades after rebels re...   \n2                               Corinthians  Brazil    \n3  Upending a table  Chopping a line and Scoring ...   \n4              Blunkett outlines vision for over   s   \n\n                                                  20  \\\n0     Diana s landmine crusade put Tories in a panic   \n1               PE points the way forward to the ECB   \n2                                 Tony s pet project   \n3   Scientific evidence  unreliable   defence claims   \n4  Embattled Dobson attacks  play now  pay later ...   \n\n                                                  21  \\\n0  Yeltsin s resignation caught opposition flat f...   \n1  Campaigners keep up pressure on Nazi war crime...   \n2                            Al Nassr  Saudi Arabia    \n3     Fusco wins judicial review in extradition case   \n4                                  Doom and the Dome   \n\n                                22  \\\n0                 Russian roulette   \n1                   Jane Ratcliffe   \n2                Ideal Holmes show   \n3    Rebels thwart Russian advance   \n4  What is the north south divide    \n\n                                                  23  \\\n0                                           Sold out   \n1  Yet more things you wouldn t know without the ...   \n2               Pinochet leaves hospital after tests   \n3               Blair orders shake up of failing NHS   \n4                          Aitken released from jail   \n\n                             24  \n0            Recovering a title  \n1  Millennium bug fails to bite  \n2                  Useful links  \n3   Lessons of law s hard heart  \n4                    Gone aloft  \n\n[5 rows x 25 columns]",
      "text/html": "<div>\n<style scoped>\n    .dataframe tbody tr th:only-of-type {\n        vertical-align: middle;\n    }\n\n    .dataframe tbody tr th {\n        vertical-align: top;\n    }\n\n    .dataframe thead th {\n        text-align: right;\n    }\n</style>\n<table border=\"1\" class=\"dataframe\">\n  <thead>\n    <tr style=\"text-align: right;\">\n      <th></th>\n      <th>0</th>\n      <th>1</th>\n      <th>2</th>\n      <th>3</th>\n      <th>4</th>\n      <th>5</th>\n      <th>6</th>\n      <th>7</th>\n      <th>8</th>\n      <th>9</th>\n      <th>...</th>\n      <th>15</th>\n      <th>16</th>\n      <th>17</th>\n      <th>18</th>\n      <th>19</th>\n      <th>20</th>\n      <th>21</th>\n      <th>22</th>\n      <th>23</th>\n      <th>24</th>\n    </tr>\n  </thead>\n  <tbody>\n    <tr>\n      <th>0</th>\n      <td>A  hindrance to operations   extracts from the...</td>\n      <td>Scorecard</td>\n      <td>Hughes  instant hit buoys Blues</td>\n      <td>Jack gets his skates on at ice cold Alex</td>\n      <td>Chaos as Maracana builds up for United</td>\n      <td>Depleted Leicester prevail as Elliott spoils E...</td>\n      <td>Hungry Spurs sense rich pickings</td>\n      <td>Gunners so wide of an easy target</td>\n      <td>Derby raise a glass to Strupar s debut double</td>\n      <td>Southgate strikes  Leeds pay the penalty</td>\n      <td>...</td>\n      <td>Flintoff injury piles on woe for England</td>\n      <td>Hunters threaten Jospin with new battle of the...</td>\n      <td>Kohl s successor drawn into scandal</td>\n      <td>The difference between men and women</td>\n      <td>Sara Denver  nurse turned solicitor</td>\n      <td>Diana s landmine crusade put Tories in a panic</td>\n      <td>Yeltsin s resignation caught opposition flat f...</td>\n      <td>Russian roulette</td>\n      <td>Sold out</td>\n      <td>Recovering a title</td>\n    </tr>\n    <tr>\n      <th>1</th>\n      <td>Scorecard</td>\n      <td>The best lake scene</td>\n      <td>Leader  German sleaze inquiry</td>\n      <td>Cheerio  boyo</td>\n      <td>The main recommendations</td>\n      <td>Has Cubie killed fees</td>\n      <td>Has Cubie killed fees</td>\n      <td>Has Cubie killed fees</td>\n      <td>Hopkins  furious  at Foster s lack of Hannibal...</td>\n      <td>Has Cubie killed fees</td>\n      <td>...</td>\n      <td>On the critical list</td>\n      <td>The timing of their lives</td>\n      <td>Dear doctor</td>\n      <td>Irish court halts IRA man s extradition to Nor...</td>\n      <td>Burundi peace initiative fades after rebels re...</td>\n      <td>PE points the way forward to the ECB</td>\n      <td>Campaigners keep up pressure on Nazi war crime...</td>\n      <td>Jane Ratcliffe</td>\n      <td>Yet more things you wouldn t know without the ...</td>\n      <td>Millennium bug fails to bite</td>\n    </tr>\n    <tr>\n      <th>2</th>\n      <td>Coventry caught on counter by Flo</td>\n      <td>United s rivals on the road to Rio</td>\n      <td>Thatcher issues defence before trial by video</td>\n      <td>Police help Smith lay down the law at Everton</td>\n      <td>Tale of Trautmann bears two more retellings</td>\n      <td>England on the rack</td>\n      <td>Pakistan retaliate with call for video of Walsh</td>\n      <td>Cullinan continues his Cape monopoly</td>\n      <td>McGrath puts India out of their misery</td>\n      <td>Blair Witch bandwagon rolls on</td>\n      <td>...</td>\n      <td>South Melbourne  Australia</td>\n      <td>Necaxa  Mexico</td>\n      <td>Real Madrid  Spain</td>\n      <td>Raja Casablanca  Morocco</td>\n      <td>Corinthians  Brazil</td>\n      <td>Tony s pet project</td>\n      <td>Al Nassr  Saudi Arabia</td>\n      <td>Ideal Holmes show</td>\n      <td>Pinochet leaves hospital after tests</td>\n      <td>Useful links</td>\n    </tr>\n    <tr>\n      <th>3</th>\n      <td>Pilgrim knows how to progress</td>\n      <td>Thatcher facing ban</td>\n      <td>McIlroy calls for Irish fighting spirit</td>\n      <td>Leicester bin stadium blueprint</td>\n      <td>United braced for Mexican wave</td>\n      <td>Auntie back in fashion  even if the dress look...</td>\n      <td>Shoaib appeal goes to the top</td>\n      <td>Hussain hurt by  shambles  but lays blame on e...</td>\n      <td>England s decade of disasters</td>\n      <td>Revenge is sweet for jubilant Cronje</td>\n      <td>...</td>\n      <td>Putin admits Yeltsin quit to give him a head s...</td>\n      <td>BBC worst hit as digital TV begins to bite</td>\n      <td>How much can you pay for</td>\n      <td>Christmas glitches</td>\n      <td>Upending a table  Chopping a line and Scoring ...</td>\n      <td>Scientific evidence  unreliable   defence claims</td>\n      <td>Fusco wins judicial review in extradition case</td>\n      <td>Rebels thwart Russian advance</td>\n      <td>Blair orders shake up of failing NHS</td>\n      <td>Lessons of law s hard heart</td>\n    </tr>\n    <tr>\n      <th>4</th>\n      <td>Hitches and Horlocks</td>\n      <td>Beckham off but United survive</td>\n      <td>Breast cancer screening</td>\n      <td>Alan Parker</td>\n      <td>Guardian readers  are you all whingers</td>\n      <td>Hollywood Beyond</td>\n      <td>Ashes and diamonds</td>\n      <td>Whingers   a formidable minority</td>\n      <td>Alan Parker   part two</td>\n      <td>Thuggery  Toxins and Ties</td>\n      <td>...</td>\n      <td>Most everywhere   UDIs</td>\n      <td>Most wanted   Chloe lunettes</td>\n      <td>Return of the cane  completely off the agenda</td>\n      <td>From Sleepy Hollow to Greeneland</td>\n      <td>Blunkett outlines vision for over   s</td>\n      <td>Embattled Dobson attacks  play now  pay later ...</td>\n      <td>Doom and the Dome</td>\n      <td>What is the north south divide</td>\n      <td>Aitken released from jail</td>\n      <td>Gone aloft</td>\n    </tr>\n  </tbody>\n</table>\n<p>5 rows × 25 columns</p>\n</div>"
     },
     "execution_count": 20,
     "metadata": {},
     "output_type": "execute_result"
    }
   ],
   "source": [
    "#Removing Punctuations and special characters\n",
    "data=train.iloc[:,2:27]\n",
    "data.replace(\"[^a-zA-Z]\",\" \",regex=True,inplace=True)\n",
    "\n",
    "#Renaming Columns\n",
    "l=[str(i) for i in range(25)]\n",
    "data.columns=l\n",
    "data.head()"
   ],
   "metadata": {
    "collapsed": false,
    "pycharm": {
     "name": "#%%\n"
    }
   }
  },
  {
   "cell_type": "code",
   "execution_count": 21,
   "outputs": [
    {
     "data": {
      "text/plain": "                                                   0          1  \\\n0  a  hindrance to operations   extracts from the...  scorecard   \n\n                                 2                                         3  \\\n0  hughes  instant hit buoys blues  jack gets his skates on at ice cold alex   \n\n                                        4  \\\n0  chaos as maracana builds up for united   \n\n                                                   5  \\\n0  depleted leicester prevail as elliott spoils e...   \n\n                                  6                                  7  \\\n0  hungry spurs sense rich pickings  gunners so wide of an easy target   \n\n                                               8  \\\n0  derby raise a glass to strupar s debut double   \n\n                                          9  ...  \\\n0  southgate strikes  leeds pay the penalty  ...   \n\n                                         15  \\\n0  flintoff injury piles on woe for england   \n\n                                                  16  \\\n0  hunters threaten jospin with new battle of the...   \n\n                                    17                                    18  \\\n0  kohl s successor drawn into scandal  the difference between men and women   \n\n                                    19  \\\n0  sara denver  nurse turned solicitor   \n\n                                               20  \\\n0  diana s landmine crusade put tories in a panic   \n\n                                                  21                22  \\\n0  yeltsin s resignation caught opposition flat f...  russian roulette   \n\n         23                  24  \n0  sold out  recovering a title  \n\n[1 rows x 25 columns]",
      "text/html": "<div>\n<style scoped>\n    .dataframe tbody tr th:only-of-type {\n        vertical-align: middle;\n    }\n\n    .dataframe tbody tr th {\n        vertical-align: top;\n    }\n\n    .dataframe thead th {\n        text-align: right;\n    }\n</style>\n<table border=\"1\" class=\"dataframe\">\n  <thead>\n    <tr style=\"text-align: right;\">\n      <th></th>\n      <th>0</th>\n      <th>1</th>\n      <th>2</th>\n      <th>3</th>\n      <th>4</th>\n      <th>5</th>\n      <th>6</th>\n      <th>7</th>\n      <th>8</th>\n      <th>9</th>\n      <th>...</th>\n      <th>15</th>\n      <th>16</th>\n      <th>17</th>\n      <th>18</th>\n      <th>19</th>\n      <th>20</th>\n      <th>21</th>\n      <th>22</th>\n      <th>23</th>\n      <th>24</th>\n    </tr>\n  </thead>\n  <tbody>\n    <tr>\n      <th>0</th>\n      <td>a  hindrance to operations   extracts from the...</td>\n      <td>scorecard</td>\n      <td>hughes  instant hit buoys blues</td>\n      <td>jack gets his skates on at ice cold alex</td>\n      <td>chaos as maracana builds up for united</td>\n      <td>depleted leicester prevail as elliott spoils e...</td>\n      <td>hungry spurs sense rich pickings</td>\n      <td>gunners so wide of an easy target</td>\n      <td>derby raise a glass to strupar s debut double</td>\n      <td>southgate strikes  leeds pay the penalty</td>\n      <td>...</td>\n      <td>flintoff injury piles on woe for england</td>\n      <td>hunters threaten jospin with new battle of the...</td>\n      <td>kohl s successor drawn into scandal</td>\n      <td>the difference between men and women</td>\n      <td>sara denver  nurse turned solicitor</td>\n      <td>diana s landmine crusade put tories in a panic</td>\n      <td>yeltsin s resignation caught opposition flat f...</td>\n      <td>russian roulette</td>\n      <td>sold out</td>\n      <td>recovering a title</td>\n    </tr>\n  </tbody>\n</table>\n<p>1 rows × 25 columns</p>\n</div>"
     },
     "execution_count": 21,
     "metadata": {},
     "output_type": "execute_result"
    }
   ],
   "source": [
    "#Converting all headlines to lowercase\n",
    "for index in l:\n",
    "    data[index]=data[index].str.lower()\n",
    "data.head(1)"
   ],
   "metadata": {
    "collapsed": false,
    "pycharm": {
     "name": "#%%\n"
    }
   }
  },
  {
   "cell_type": "code",
   "execution_count": 23,
   "outputs": [],
   "source": [
    "#Combining all headlines\n",
    "headlines=[]\n",
    "for row in range(0,len(data.index)):\n",
    "    headlines.append(' '.join(str(i) for i in data.iloc[row,0:25]))"
   ],
   "metadata": {
    "collapsed": false,
    "pycharm": {
     "name": "#%%\n"
    }
   }
  },
  {
   "cell_type": "code",
   "execution_count": 24,
   "outputs": [
    {
     "data": {
      "text/plain": "'a  hindrance to operations   extracts from the leaked reports scorecard hughes  instant hit buoys blues jack gets his skates on at ice cold alex chaos as maracana builds up for united depleted leicester prevail as elliott spoils everton s party hungry spurs sense rich pickings gunners so wide of an easy target derby raise a glass to strupar s debut double southgate strikes  leeds pay the penalty hammers hand robson a youthful lesson saints party like it s      wear wolves have turned into lambs stump mike catches testy gough s taunt langer escapes to hit     flintoff injury piles on woe for england hunters threaten jospin with new battle of the somme kohl s successor drawn into scandal the difference between men and women sara denver  nurse turned solicitor diana s landmine crusade put tories in a panic yeltsin s resignation caught opposition flat footed russian roulette sold out recovering a title'"
     },
     "execution_count": 24,
     "metadata": {},
     "output_type": "execute_result"
    }
   ],
   "source": [
    "headlines[0]"
   ],
   "metadata": {
    "collapsed": false,
    "pycharm": {
     "name": "#%%\n"
    }
   }
  },
  {
   "cell_type": "code",
   "execution_count": 25,
   "outputs": [],
   "source": [
    "from sklearn.feature_extraction.text import CountVectorizer\n",
    "from sklearn.ensemble import RandomForestClassifier"
   ],
   "metadata": {
    "collapsed": false,
    "pycharm": {
     "name": "#%%\n"
    }
   }
  },
  {
   "cell_type": "code",
   "execution_count": 26,
   "outputs": [],
   "source": [
    "#CountVectorizer responsible for converting all sentences to vector"
   ],
   "metadata": {
    "collapsed": false,
    "pycharm": {
     "name": "#%%\n"
    }
   }
  },
  {
   "cell_type": "code",
   "execution_count": 27,
   "outputs": [],
   "source": [
    "countvector=CountVectorizer(ngram_range=(2,2))\n",
    "traindataset=countvector.fit_transform(headlines)"
   ],
   "metadata": {
    "collapsed": false,
    "pycharm": {
     "name": "#%%\n"
    }
   }
  },
  {
   "cell_type": "code",
   "execution_count": 28,
   "outputs": [
    {
     "data": {
      "text/plain": "RandomForestClassifier(criterion='entropy', n_estimators=200)"
     },
     "execution_count": 28,
     "metadata": {},
     "output_type": "execute_result"
    }
   ],
   "source": [
    "randomclassifier=RandomForestClassifier(n_estimators=200,criterion='entropy')\n",
    "randomclassifier.fit(traindataset,train['Label'])"
   ],
   "metadata": {
    "collapsed": false,
    "pycharm": {
     "name": "#%%\n"
    }
   }
  },
  {
   "cell_type": "code",
   "execution_count": 29,
   "outputs": [],
   "source": [
    "test_l=[]\n",
    "for row in range(0,len(test.index)):\n",
    "    test_l.append(' '.join(str(x) for x in test.iloc[row,2:27]))\n",
    "test_dataset=countvector.transform(test_l)\n",
    "predictions=randomclassifier.predict(test_dataset)"
   ],
   "metadata": {
    "collapsed": false,
    "pycharm": {
     "name": "#%%\n"
    }
   }
  },
  {
   "cell_type": "code",
   "execution_count": 31,
   "outputs": [
    {
     "data": {
      "text/plain": "array([1, 0, 0, 1, 1, 0, 0, 0, 0, 0, 1, 1, 1, 1, 0, 1, 0, 0, 1, 0, 1, 1,\n       1, 1, 0, 0, 1, 0, 1, 1, 1, 0, 0, 1, 0, 1, 1, 0, 0, 1, 0, 0, 1, 0,\n       1, 0, 0, 1, 0, 1, 0, 1, 0, 1, 0, 0, 0, 0, 1, 1, 0, 0, 1, 1, 0, 1,\n       1, 1, 0, 1, 1, 0, 0, 1, 0, 1, 1, 1, 0, 1, 0, 0, 1, 1, 0, 0, 1, 1,\n       0, 0, 0, 1, 1, 1, 1, 0, 1, 0, 0, 1, 0, 0, 1, 0, 1, 0, 0, 0, 0, 1,\n       1, 0, 0, 1, 1, 1, 0, 1, 1, 0, 0, 1, 0, 1, 1, 0, 0, 1, 0, 1, 1, 1,\n       1, 0, 1, 0, 1, 0, 0, 0, 0, 0, 1, 1, 0, 0, 0, 0, 0, 0, 0, 1, 0, 0,\n       1, 1, 1, 0, 0, 0, 0, 0, 0, 1, 1, 0, 0, 0, 1, 1, 0, 1, 0, 1, 1, 0,\n       1, 1, 0, 0, 1, 0, 0, 0, 1, 0, 1, 1, 0, 1, 1, 1, 1, 1, 1, 1, 0, 0,\n       1, 1, 1, 0, 0, 1, 1, 0, 0, 1, 0, 0, 1, 1, 0, 0, 1, 0, 1, 0, 0, 0,\n       1, 1, 1, 0, 1, 0, 1, 1, 0, 0, 1, 0, 0, 1, 0, 0, 0, 1, 0, 1, 1, 1,\n       0, 0, 1, 1, 1, 0, 0, 1, 0, 0, 1, 0, 1, 1, 1, 1, 1, 1, 1, 1, 1, 1,\n       1, 0, 1, 1, 1, 0, 0, 1, 1, 1, 1, 1, 0, 1, 1, 1, 1, 1, 1, 1, 1, 1,\n       1, 0, 1, 0, 1, 1, 1, 1, 1, 1, 0, 1, 1, 1, 1, 1, 1, 1, 1, 1, 1, 1,\n       1, 1, 1, 1, 1, 1, 1, 1, 1, 0, 0, 0, 1, 0, 1, 1, 1, 1, 1, 1, 1, 1,\n       1, 1, 1, 1, 1, 1, 0, 1, 0, 1, 1, 0, 1, 1, 1, 0, 1, 1, 1, 1, 1, 0,\n       1, 1, 1, 1, 0, 0, 1, 1, 0, 1, 1, 1, 1, 1, 1, 1, 0, 1, 0, 1, 0, 1,\n       1, 1, 1, 0], dtype=int64)"
     },
     "execution_count": 31,
     "metadata": {},
     "output_type": "execute_result"
    }
   ],
   "source": [
    "predictions"
   ],
   "metadata": {
    "collapsed": false,
    "pycharm": {
     "name": "#%%\n"
    }
   }
  },
  {
   "cell_type": "code",
   "execution_count": 32,
   "outputs": [],
   "source": [
    "from sklearn.metrics import classification_report,confusion_matrix,accuracy_score"
   ],
   "metadata": {
    "collapsed": false,
    "pycharm": {
     "name": "#%%\n"
    }
   }
  },
  {
   "cell_type": "code",
   "execution_count": 33,
   "outputs": [
    {
     "data": {
      "text/plain": "array([[141,  45],\n       [ 13, 179]], dtype=int64)"
     },
     "execution_count": 33,
     "metadata": {},
     "output_type": "execute_result"
    }
   ],
   "source": [
    "matrix = confusion_matrix(test['Label'],predictions)\n",
    "matrix"
   ],
   "metadata": {
    "collapsed": false,
    "pycharm": {
     "name": "#%%\n"
    }
   }
  },
  {
   "cell_type": "code",
   "execution_count": 34,
   "outputs": [
    {
     "data": {
      "text/plain": "0.8465608465608465"
     },
     "execution_count": 34,
     "metadata": {},
     "output_type": "execute_result"
    }
   ],
   "source": [
    "accScore=accuracy_score(test['Label'],predictions)\n",
    "accScore"
   ],
   "metadata": {
    "collapsed": false,
    "pycharm": {
     "name": "#%%\n"
    }
   }
  },
  {
   "cell_type": "code",
   "execution_count": 35,
   "outputs": [
    {
     "data": {
      "text/plain": "'              precision    recall  f1-score   support\\n\\n           0       0.92      0.76      0.83       186\\n           1       0.80      0.93      0.86       192\\n\\n    accuracy                           0.85       378\\n   macro avg       0.86      0.85      0.84       378\\nweighted avg       0.86      0.85      0.85       378\\n'"
     },
     "execution_count": 35,
     "metadata": {},
     "output_type": "execute_result"
    }
   ],
   "source": [
    "report=classification_report(test['Label'],predictions)\n",
    "report"
   ],
   "metadata": {
    "collapsed": false,
    "pycharm": {
     "name": "#%%\n"
    }
   }
  },
  {
   "cell_type": "code",
   "execution_count": 38,
   "outputs": [],
   "source": [
    "from sklearn.naive_bayes import MultinomialNB"
   ],
   "metadata": {
    "collapsed": false,
    "pycharm": {
     "name": "#%%\n"
    }
   }
  },
  {
   "cell_type": "code",
   "execution_count": 39,
   "outputs": [
    {
     "data": {
      "text/plain": "MultinomialNB()"
     },
     "execution_count": 39,
     "metadata": {},
     "output_type": "execute_result"
    }
   ],
   "source": [
    "naive=MultinomialNB()\n",
    "naive.fit(traindataset,train['Label'])"
   ],
   "metadata": {
    "collapsed": false,
    "pycharm": {
     "name": "#%%\n"
    }
   }
  },
  {
   "cell_type": "code",
   "execution_count": 40,
   "outputs": [],
   "source": [
    "test_l=[]\n",
    "for row in range(0,len(test.index)):\n",
    "    test_l.append(' '.join(str(x) for x in test.iloc[row,2:27]))\n",
    "test_dataset=countvector.transform(test_l)\n",
    "predictions=naive.predict(test_dataset)"
   ],
   "metadata": {
    "collapsed": false,
    "pycharm": {
     "name": "#%%\n"
    }
   }
  },
  {
   "cell_type": "code",
   "execution_count": 41,
   "outputs": [
    {
     "data": {
      "text/plain": "array([1, 0, 0, 1, 1, 0, 0, 0, 0, 0, 1, 1, 1, 1, 0, 1, 0, 0, 1, 0, 1, 1,\n       1, 1, 0, 0, 1, 0, 1, 1, 1, 0, 0, 1, 0, 1, 1, 0, 0, 1, 0, 0, 1, 0,\n       1, 0, 0, 1, 0, 1, 0, 1, 0, 1, 0, 0, 0, 0, 1, 1, 0, 0, 1, 1, 0, 1,\n       1, 1, 0, 1, 1, 0, 0, 1, 0, 1, 1, 1, 0, 1, 0, 0, 1, 1, 0, 0, 1, 1,\n       0, 0, 0, 1, 1, 1, 1, 0, 1, 0, 0, 1, 0, 0, 1, 0, 1, 0, 0, 0, 0, 1,\n       1, 0, 0, 1, 1, 1, 0, 1, 1, 0, 0, 1, 0, 1, 1, 0, 0, 1, 0, 1, 1, 1,\n       1, 0, 1, 0, 1, 0, 0, 0, 0, 0, 1, 1, 0, 0, 0, 0, 0, 0, 0, 1, 0, 0,\n       1, 1, 1, 0, 0, 0, 0, 0, 0, 1, 1, 0, 0, 0, 1, 1, 0, 1, 0, 1, 1, 0,\n       1, 1, 0, 0, 1, 0, 0, 0, 1, 0, 1, 1, 0, 1, 1, 1, 1, 1, 1, 1, 0, 0,\n       1, 1, 1, 0, 0, 1, 1, 0, 0, 1, 0, 0, 1, 1, 0, 0, 1, 0, 1, 0, 0, 0,\n       1, 1, 1, 0, 1, 0, 1, 1, 0, 0, 1, 0, 0, 1, 0, 0, 0, 1, 0, 1, 1, 1,\n       0, 0, 1, 1, 1, 0, 0, 1, 0, 0, 1, 1, 1, 1, 1, 1, 1, 1, 0, 1, 1, 1,\n       1, 1, 0, 1, 1, 1, 1, 1, 1, 1, 1, 1, 0, 0, 1, 1, 1, 1, 1, 1, 1, 1,\n       1, 1, 1, 1, 1, 1, 1, 1, 1, 1, 1, 1, 1, 1, 0, 1, 1, 0, 1, 1, 1, 1,\n       1, 1, 1, 1, 1, 0, 1, 1, 1, 0, 1, 0, 1, 0, 1, 1, 1, 0, 1, 1, 1, 1,\n       1, 1, 1, 1, 0, 1, 1, 1, 1, 0, 1, 1, 1, 1, 1, 0, 1, 1, 1, 0, 1, 1,\n       1, 1, 1, 1, 0, 1, 1, 1, 1, 1, 1, 1, 1, 1, 0, 1, 1, 1, 1, 0, 1, 1,\n       1, 1, 1, 1], dtype=int64)"
     },
     "execution_count": 41,
     "metadata": {},
     "output_type": "execute_result"
    }
   ],
   "source": [
    "predictions"
   ],
   "metadata": {
    "collapsed": false,
    "pycharm": {
     "name": "#%%\n"
    }
   }
  },
  {
   "cell_type": "code",
   "execution_count": 42,
   "outputs": [
    {
     "data": {
      "text/plain": "array([[138,  48],\n       [ 10, 182]], dtype=int64)"
     },
     "execution_count": 42,
     "metadata": {},
     "output_type": "execute_result"
    }
   ],
   "source": [
    "matrix = confusion_matrix(test['Label'],predictions)\n",
    "matrix"
   ],
   "metadata": {
    "collapsed": false,
    "pycharm": {
     "name": "#%%\n"
    }
   }
  },
  {
   "cell_type": "code",
   "execution_count": 43,
   "outputs": [
    {
     "data": {
      "text/plain": "0.8465608465608465"
     },
     "execution_count": 43,
     "metadata": {},
     "output_type": "execute_result"
    }
   ],
   "source": [
    "accScore=accuracy_score(test['Label'],predictions)\n",
    "accScore"
   ],
   "metadata": {
    "collapsed": false,
    "pycharm": {
     "name": "#%%\n"
    }
   }
  },
  {
   "cell_type": "code",
   "execution_count": 44,
   "outputs": [
    {
     "data": {
      "text/plain": "'              precision    recall  f1-score   support\\n\\n           0       0.93      0.74      0.83       186\\n           1       0.79      0.95      0.86       192\\n\\n    accuracy                           0.85       378\\n   macro avg       0.86      0.84      0.84       378\\nweighted avg       0.86      0.85      0.84       378\\n'"
     },
     "execution_count": 44,
     "metadata": {},
     "output_type": "execute_result"
    }
   ],
   "source": [
    "report=classification_report(test['Label'],predictions)\n",
    "report"
   ],
   "metadata": {
    "collapsed": false,
    "pycharm": {
     "name": "#%%\n"
    }
   }
  },
  {
   "cell_type": "code",
   "execution_count": null,
   "outputs": [],
   "source": [],
   "metadata": {
    "collapsed": false,
    "pycharm": {
     "name": "#%%\n"
    }
   }
  }
 ],
 "metadata": {
  "kernelspec": {
   "display_name": "Python 3",
   "language": "python",
   "name": "python3"
  },
  "language_info": {
   "codemirror_mode": {
    "name": "ipython",
    "version": 2
   },
   "file_extension": ".py",
   "mimetype": "text/x-python",
   "name": "python",
   "nbconvert_exporter": "python",
   "pygments_lexer": "ipython2",
   "version": "2.7.6"
  }
 },
 "nbformat": 4,
 "nbformat_minor": 0
}